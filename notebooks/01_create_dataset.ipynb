{
 "cells": [
  {
   "cell_type": "code",
   "execution_count": 1,
   "metadata": {},
   "outputs": [],
   "source": [
    "import subprocess\n",
    "\n",
    "def link_file(from_file, to_file):\n",
    "    \"\"\"\n",
    "        create a symbol link to the `from_file` which avoids to copy its content\n",
    "\n",
    "        Args:\n",
    "        -----\n",
    "        from_file: the absolute path to the source file\n",
    "        to_file: the absolute path to the link file\n",
    "    \"\"\"\n",
    "    subprocess.check_call(\n",
    "        f'ln -s \"{from_file}\" \"{to_file}\"', shell=True\n",
    "        )\n"
   ]
  },
  {
   "cell_type": "code",
   "execution_count": 2,
   "metadata": {},
   "outputs": [
    {
     "name": "stderr",
     "output_type": "stream",
     "text": [
      "  0%|          | 15/4502 [00:00<00:31, 141.49it/s]"
     ]
    },
    {
     "name": "stderr",
     "output_type": "stream",
     "text": [
      "100%|██████████| 4502/4502 [00:30<00:00, 148.90it/s]\n",
      "100%|██████████| 5722/5722 [00:38<00:00, 147.36it/s]\n",
      "100%|██████████| 5424/5424 [00:38<00:00, 142.11it/s]\n",
      "100%|██████████| 3911/3911 [00:26<00:00, 145.67it/s]\n",
      "100%|██████████| 5775/5775 [00:40<00:00, 142.00it/s]\n",
      "100%|██████████| 6987/6987 [00:48<00:00, 143.39it/s]\n",
      "100%|██████████| 3293/3293 [00:22<00:00, 145.92it/s]\n",
      "100%|██████████| 852/852 [00:05<00:00, 152.33it/s]\n"
     ]
    }
   ],
   "source": [
    "import os\n",
    "from tqdm import tqdm\n",
    "base_dir = \"/home3/nguyenlm/Vbee_Corpus/RECORDING\"\n",
    "source_dirs = [\n",
    "    (f\"{base_dir}/HUONGGIANG/RECL_CORPUS/DIAL\", \"hg_dial\"),\n",
    "    (f\"{base_dir}/HUONGGIANG/RECL_CORPUS/NEWS\", \"hg_news\"),\n",
    "    (f\"{base_dir}/HUONGGIANG/RECL_CORPUS/STOR\", \"hg_stor\"),\n",
    "    (f\"{base_dir}/NGOCHUYEN/RECL_CORPUS/DIAL\", \"nh_dial\"),\n",
    "    (f\"{base_dir}/NGOCHUYEN/RECL_CORPUS/NEWS\", \"nh_news\"),\n",
    "    (f\"{base_dir}/NGOCHUYEN/RECL_CORPUS/STOR\", \"nh_stor\"),\n",
    "    (f\"{base_dir}/TUONGVY/ORIG_CORPUS/CALL\", \"tv_call\"),\n",
    "    (f\"{base_dir}/TUONGVY/ORIG_CORPUS/STOR\", \"tv_stor\"),\n",
    "]\n",
    "\n",
    "dest_dir = \"../dataset/DUMMY/vi\"\n",
    "\n",
    "for _dir, alias in source_dirs:\n",
    "    os.makedirs(os.path.join(dest_dir, alias), exist_ok=True)\n",
    "    wav_dir = f\"{_dir}/wav_origin\"\n",
    "    if not os.path.isdir(wav_dir):\n",
    "        wav_dir = f\"{_dir}/wav_16k_no_cut\"\n",
    "    for file in tqdm(os.listdir(wav_dir)):\n",
    "        if file.endswith(\".wav\"):\n",
    "            link_file(\n",
    "                os.path.join(_dir, \"wav_origin\", file),\n",
    "                os.path.join(dest_dir, alias, f\"{alias}_{file}\")\n",
    "            )"
   ]
  },
  {
   "cell_type": "code",
   "execution_count": null,
   "metadata": {},
   "outputs": [],
   "source": []
  }
 ],
 "metadata": {
  "kernelspec": {
   "display_name": "fastpitch",
   "language": "python",
   "name": "python3"
  },
  "language_info": {
   "codemirror_mode": {
    "name": "ipython",
    "version": 3
   },
   "file_extension": ".py",
   "mimetype": "text/x-python",
   "name": "python",
   "nbconvert_exporter": "python",
   "pygments_lexer": "ipython3",
   "version": "3.7.11"
  }
 },
 "nbformat": 4,
 "nbformat_minor": 2
}

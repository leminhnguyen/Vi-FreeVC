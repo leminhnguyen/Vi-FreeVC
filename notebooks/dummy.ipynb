{
 "cells": [
  {
   "cell_type": "code",
   "execution_count": 3,
   "metadata": {},
   "outputs": [],
   "source": [
    "import os, sys\n",
    "sys.path.append(\"..\")\n",
    "from speaker_encoder.voice_encoder import SpeakerEncoder\n",
    "from speaker_encoder.audio import preprocess_wav\n",
    "from pathlib import Path\n",
    "import numpy as np\n",
    "from os.path import join, basename, split\n",
    "from tqdm import tqdm\n",
    "from multiprocessing import cpu_count\n",
    "from concurrent.futures import ProcessPoolExecutor \n",
    "from functools import partial\n",
    "import glob \n",
    "import argparse\n",
    "\n",
    "def _compute_spkEmbed(out_dir, wav_path, weights_fpath):\n",
    "    utt_id = os.path.basename(wav_path).rstrip(\".wav\")\n",
    "    fpath = Path(wav_path)\n",
    "    wav = preprocess_wav(fpath)\n",
    "\n",
    "    encoder = SpeakerEncoder(weights_fpath)\n",
    "    embed = encoder.embed_utterance(wav)\n",
    "    fname_save = os.path.join(out_dir, f\"{utt_id}.npy\")\n",
    "    np.save(fname_save, embed, allow_pickle=False)\n",
    "    return os.path.basename(fname_save)"
   ]
  },
  {
   "cell_type": "code",
   "execution_count": 6,
   "metadata": {},
   "outputs": [
    {
     "name": "stdout",
     "output_type": "stream",
     "text": [
      "Loaded the voice encoder model on cuda in 0.03 seconds.\n",
      "Loaded the voice encoder model on cuda in 0.01 seconds.\n",
      "Loaded the voice encoder model on cuda in 0.05 seconds.\n"
     ]
    },
    {
     "data": {
      "text/plain": [
       "'hg_news_0000003.npy'"
      ]
     },
     "execution_count": 6,
     "metadata": {},
     "output_type": "execute_result"
    }
   ],
   "source": [
    "_compute_spkEmbed(\"../dataset\", \"../dataset/DUMMY_16k/vi/hg_news/hg_news_0000001.wav\", \"../speaker_encoder/ckpt/pretrained_bak_5805000.pt\")\n",
    "_compute_spkEmbed(\"../dataset\", \"../dataset/DUMMY_16k/vi/hg_news/hg_news_0000004.wav\", \"../speaker_encoder/ckpt/pretrained_bak_5805000.pt\")\n",
    "_compute_spkEmbed(\"../dataset\", \"../dataset/DUMMY_16k/vi/hg_news/hg_news_0000003.wav\", \"../speaker_encoder/ckpt/pretrained_bak_5805000.pt\")"
   ]
  },
  {
   "cell_type": "code",
   "execution_count": 7,
   "metadata": {},
   "outputs": [
    {
     "name": "stdout",
     "output_type": "stream",
     "text": [
      "Loaded the voice encoder model on cuda in 0.01 seconds.\n"
     ]
    }
   ],
   "source": [
    "encoder = SpeakerEncoder(\"../speaker_encoder/ckpt/pretrained_bak_5805000.pt\")"
   ]
  },
  {
   "cell_type": "code",
   "execution_count": 8,
   "metadata": {},
   "outputs": [],
   "source": [
    "fpath = Path(\"../dataset/DUMMY_16k/vi/hg_news/hg_news_0000001.wav\")\n",
    "wav = preprocess_wav(fpath)\n",
    "embed = encoder.embed_utterance(wav)\n",
    "fname_save = os.path.join(\"../dataset\", f\"hg_news_0000001.npy\")\n",
    "np.save(fname_save, embed, allow_pickle=False)"
   ]
  },
  {
   "cell_type": "code",
   "execution_count": 10,
   "metadata": {},
   "outputs": [],
   "source": [
    "fpath = Path(\"../dataset/DUMMY_16k/vi/hg_news/hg_news_0000003.wav\")\n",
    "wav = preprocess_wav(fpath)\n",
    "embed = encoder.embed_utterance(wav)\n",
    "fname_save = os.path.join(\"../dataset\", f\"hg_news_0000003.npy\")\n",
    "np.save(fname_save, embed, allow_pickle=False)"
   ]
  },
  {
   "cell_type": "code",
   "execution_count": 11,
   "metadata": {},
   "outputs": [],
   "source": [
    "fpath = Path(\"../dataset/DUMMY_16k/vi/hg_news/hg_news_0000004.wav\")\n",
    "wav = preprocess_wav(fpath)\n",
    "embed = encoder.embed_utterance(wav)\n",
    "fname_save = os.path.join(\"../dataset\", f\"hg_news_0000004.npy\")\n",
    "np.save(fname_save, embed, allow_pickle=False)"
   ]
  },
  {
   "cell_type": "code",
   "execution_count": 13,
   "metadata": {},
   "outputs": [
    {
     "data": {
      "text/plain": [
       "array([0.10325975, 0.00028436, 0.0249988 , 0.00276934, 0.03103142,\n",
       "       0.07748881, 0.        , 0.01199915, 0.0627777 , 0.        ],\n",
       "      dtype=float32)"
      ]
     },
     "execution_count": 13,
     "metadata": {},
     "output_type": "execute_result"
    }
   ],
   "source": [
    "np.load(\"../dataset/hg_news_0000001.npy\")[:10]"
   ]
  },
  {
   "cell_type": "code",
   "execution_count": 14,
   "metadata": {},
   "outputs": [
    {
     "data": {
      "text/plain": [
       "array([0.10325975, 0.00028436, 0.0249988 , 0.00276934, 0.03103142,\n",
       "       0.07748881, 0.        , 0.01199915, 0.0627777 , 0.        ],\n",
       "      dtype=float32)"
      ]
     },
     "execution_count": 14,
     "metadata": {},
     "output_type": "execute_result"
    }
   ],
   "source": [
    "np.load(\"../dataset/_hg_news_0000001.npy\")[:10]"
   ]
  },
  {
   "cell_type": "code",
   "execution_count": null,
   "metadata": {},
   "outputs": [],
   "source": [
    "import torch\n",
    "\n",
    "\n",
    "wav_dir = \"../dataset/DUMMY_16k/vi/hg_news\""
   ]
  }
 ],
 "metadata": {
  "kernelspec": {
   "display_name": "fastpitch",
   "language": "python",
   "name": "python3"
  },
  "language_info": {
   "codemirror_mode": {
    "name": "ipython",
    "version": 3
   },
   "file_extension": ".py",
   "mimetype": "text/x-python",
   "name": "python",
   "nbconvert_exporter": "python",
   "pygments_lexer": "ipython3",
   "version": "3.7.11"
  }
 },
 "nbformat": 4,
 "nbformat_minor": 2
}
